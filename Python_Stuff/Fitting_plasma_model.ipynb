{
 "cells": [
  {
   "cell_type": "code",
   "execution_count": 2,
   "id": "9d64d801",
   "metadata": {},
   "outputs": [],
   "source": [
    "import copy\n",
    "import os\n",
    "import numpy as np\n",
    "import matplotlib.pyplot as plt\n",
    "from pydmd import DMD\n",
    "from pydmd.bopdmd import BOPDMD\n",
    "from pydmd import DMDc\n",
    "from scipy.signal import StateSpace, lsim, dlsim, cont2discrete,butter\n",
    "from scipy.io import loadmat,savemat\n",
    "import pysindy as ps\n",
    "from sklearn.metrics import mean_squared_error\n",
    "import scipy\n",
    "from pydmd.plotter import plot_eigs\n",
    "from sklearn.preprocessing import StandardScaler\n",
    "from scipy.fft import fft\n",
    "import pickle\n",
    "import control as ct"
   ]
  },
  {
   "cell_type": "code",
   "execution_count": 15,
   "id": "2f3f4405",
   "metadata": {},
   "outputs": [
    {
     "name": "stdout",
     "output_type": "stream",
     "text": [
      "0.0027720092853365024\n"
     ]
    }
   ],
   "source": [
    "L1 = (8.0141e-7); #Henry\n",
    "L2 = 2.0462e-6; #Henry\n",
    "M = .161*L2; # Coupling coefficient\n",
    "Mw = .1346*L2;# Coupling coefficient\n",
    "Cap = 96e-6; # F\n",
    "R1 = .0025; #Ohm\n",
    "R2 = .005; # Ohm\n",
    "R3 = .005; # Ohm\n",
    "Lp = L2/5; #Henry\n",
    "Mp = .75*np.sqrt(L2*Lp); # Henry order 150 nH and a resistive load order 30 mOhms\n",
    "Rp = R2; #Ohm\n",
    "\n",
    "\n",
    "\n",
    "state_coeff = np.array( [[-(R1+R2)/L1,-1/L1,R2/L1,0,0,0,0,0,0,0,0,0,0],\n",
    "               [1/Cap,0,-1/Cap,0,0,0,0,0,0,0,0,0,0],\n",
    "               [-R2,-1,R2+R3,0,0,0,0,0,0,0,0,0,0],\n",
    "               [0,0,0,((-1/L1)*(R1+R2)), -1/L1, R2*1/L1, 0, 0, 0, 0, 0, 0,0],\n",
    "                [0, 0, 0,  1/Cap, 0, -1/Cap, 0, 0, 0, 0, 0, 0,0],\n",
    "                [0,0,0, -R2,-1,R2+R3,0,0,0,0,0,0,0],\n",
    "                 [0, 0, 0, 0, 0, 0, ((-1/L1)*(R1+R2)), -1/L1, R2*1/L1, 0, 0, 0,0],\n",
    "                  [0, 0, 0, 0, 0, 0, 1/Cap, 0, -1/Cap, 0, 0, 0,0],\n",
    "                  [0,0,0,0,0,0,-R2,-1,R2+R3,0,0,0,0],\n",
    "                    [0, 0, 0, 0, 0, 0, 0, 0, 0, ((-1/L1)*(R1+R2)), -1/L1, R2*1/L1,0],\n",
    "                    [0, 0, 0, 0, 0, 0, 0, 0, 0, 1/Cap, 0, -1/Cap,0],\n",
    "                    [0,0,0,0,0,0,0,0,0,-R2,-1,R2+R3,0],\n",
    "                    [0,0,0,0,0,0,0,0,0,0,0,0,Rp]]\n",
    "                       \n",
    "                      )\n",
    "\n",
    "#coeff in front of state derivatives x_dot\n",
    "state_derivative_coeff = np.array( [[1,0,0,0,0,0,0,0,0,0,0,0,0],\n",
    "                          [0,1,0,0,0,0,0,0,0,0,0,0,0],\n",
    "                          [0,0,-L2,0,0,-M,0,0,-M,0,0,-Mw,Mp],\n",
    "                          [0,0,0,1,0,0,0,0,0,0,0,0,0],\n",
    "                          [0,0,0,0,1,0,0,0,0,0,0,0,0],\n",
    "                          [0,0,-M,0,0,-L2,0,0,-Mw,0,0,-M,-Mp],\n",
    "                          [0,0,0,0,0,0,1,0,0,0,0,0,0],\n",
    "                          [0,0,0,0,0,0,0,1,0,0,0,0,0],\n",
    "                          [0,0,-M,0,0,-Mw,0,0,-L2,0,0,-M, Mp],\n",
    "                          [0,0,0,0,0,0,0,0,0,1,0,0,0],\n",
    "                          [0,0,0,0,0,0,0,0,0,0,1,0,0],\n",
    "                          [0,0,-Mw,0,0,-M,0,0,-M,0,0,-L2,-Mp],\n",
    "                          [0,0,Mp,0,0,-Mp,0,0,-Mp,0,0,Mp,-Lp]])\n",
    "                                 \n",
    "#compute A matrix\n",
    "A = np.linalg.pinv(state_derivative_coeff)@state_coeff\n",
    "\n",
    "A_plasma = loadmat('plasma_ss_A_matrix').get('A')\n",
    "\n",
    "print(np.linalg.norm(A-A_plasma))"
   ]
  }
 ],
 "metadata": {
  "kernelspec": {
   "display_name": "Python 3 (ipykernel)",
   "language": "python",
   "name": "python3"
  },
  "language_info": {
   "codemirror_mode": {
    "name": "ipython",
    "version": 3
   },
   "file_extension": ".py",
   "mimetype": "text/x-python",
   "name": "python",
   "nbconvert_exporter": "python",
   "pygments_lexer": "ipython3",
   "version": "3.9.7"
  }
 },
 "nbformat": 4,
 "nbformat_minor": 5
}
